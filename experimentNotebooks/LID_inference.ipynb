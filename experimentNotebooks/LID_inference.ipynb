{
 "cells": [
  {
   "cell_type": "code",
   "execution_count": 5,
   "id": "3d5270fd-243f-41c1-9152-787d45fed5a4",
   "metadata": {},
   "outputs": [
    {
     "name": "stdout",
     "output_type": "stream",
     "text": [
      "(tensor([[-16.0110,  -6.9364, -12.7135, -11.4672, -13.6046, -18.2997, -20.2357,\n",
      "         -13.6248, -14.2692,  -8.9939, -10.7528, -16.1384, -11.8801, -13.4620,\n",
      "         -13.7142,  -9.4503,  -6.0520, -13.8943, -12.1088, -17.1606,  -0.0411,\n",
      "         -11.2566, -12.1949, -18.0430, -15.1659, -13.1783, -17.9820, -14.2594,\n",
      "         -12.7542, -13.7171, -17.7485, -11.6319,  -8.9208, -12.4550,  -3.4188,\n",
      "          -9.3515, -10.9901, -15.1478, -15.0210, -14.8639, -16.2740, -12.5767,\n",
      "         -12.3519, -14.1734, -10.3258, -16.1626, -16.4512, -11.0784, -17.1201,\n",
      "         -12.9562, -10.0199,  -7.6043,  -9.0888, -14.2327, -17.4319, -18.1756,\n",
      "         -13.7619, -15.5377, -11.0414, -12.2310, -14.6606,  -9.7631, -16.0065,\n",
      "         -11.6567, -10.7697, -11.2612,  -9.5273, -10.6738,  -7.8535, -13.7040,\n",
      "         -11.4943, -17.1286, -11.7380,  -8.9805, -12.7748,  -8.4099, -12.1679,\n",
      "         -14.9421, -11.0894, -10.0701,  -8.7093, -12.3603,  -8.8611, -10.1045,\n",
      "         -15.7942, -14.5644,  -9.1018, -12.4630, -19.2383, -14.7834, -10.6881,\n",
      "          -8.9513,  -8.6260, -19.4155, -15.3529, -20.4647,  -7.7981, -13.2684,\n",
      "         -15.6148, -14.8041,  -9.5303, -16.1341, -13.6005,  -7.5472,  -9.5365,\n",
      "         -13.7012, -10.0716]]), tensor([-0.0411]), tensor([20]), ['en: English'])\n",
      "tensor([0.9597])\n",
      "['en: English']\n",
      "torch.Size([1, 1, 256])\n"
     ]
    }
   ],
   "source": [
    "import torchaudio\n",
    "from speechbrain.pretrained import EncoderClassifier\n",
    "language_id = EncoderClassifier.from_hparams(source=\"speechbrain/lang-id-voxlingua107-ecapa\", savedir=\"tmp\")\n",
    "\n",
    "filename_en = \"/media/out_of_domain_LID/English/output005.wav\"\n",
    "filename_hi = \"/media/out_of_domain_LID/Hindi/3_Mantra_Govt_Exam_Crack_Prem_Kumawat_Josh_Talks_Hindi_81.wav\"\n",
    "filename_ta = \"/media/out_of_domain_LID/Tamil/3_Must_Haves_For_Successful_Career_Dr_Saundarya_Rajesh_Josh_Talks_Tamil_96.wav\"\n",
    "filename_te = \"/media/out_of_domain_LID/Telugu/8000_RamaChandra_Appari_Telugu_Motivational_Videos_Josh_Talks_Telugu_32.wav\"\n",
    "\n",
    "signal = language_id.load_audio(filename_en)\n",
    "prediction =  language_id.classify_batch(signal)\n",
    "print(prediction)\n",
    "\n",
    "# The scores in the prediction[0] tensor can be interpreted as log-likelihoods that\n",
    "# the given utterance belongs to the given language (i.e., the larger the better)\n",
    "# The linear-scale likelihood can be retrieved using the following:\n",
    "print(prediction[1].exp())\n",
    "# The identified language ISO code is given in prediction[3]\n",
    "print(prediction[3])\n",
    "# Alternatively, use the utterance embedding extractor:\n",
    "emb =  language_id.encode_batch(signal)\n",
    "print(emb.shape)"
   ]
  },
  {
   "cell_type": "code",
   "execution_count": null,
   "id": "e4a67842-db0f-465f-a288-275763cabe95",
   "metadata": {},
   "outputs": [],
   "source": []
  }
 ],
 "metadata": {
  "kernelspec": {
   "display_name": "Python 3 (ipykernel)",
   "language": "python",
   "name": "python3"
  },
  "language_info": {
   "codemirror_mode": {
    "name": "ipython",
    "version": 3
   },
   "file_extension": ".py",
   "mimetype": "text/x-python",
   "name": "python",
   "nbconvert_exporter": "python",
   "pygments_lexer": "ipython3",
   "version": "3.9.15"
  }
 },
 "nbformat": 4,
 "nbformat_minor": 5
}
